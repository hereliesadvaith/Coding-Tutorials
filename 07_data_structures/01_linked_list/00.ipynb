{
 "cells": [
  {
   "attachments": {},
   "cell_type": "markdown",
   "metadata": {},
   "source": [
    "### Linked List"
   ]
  },
  {
   "cell_type": "code",
   "execution_count": 1,
   "metadata": {},
   "outputs": [],
   "source": [
    "class Node:\n",
    "    def __init__(self, num) -> None:\n",
    "        self.data = num\n",
    "        self.next = None"
   ]
  },
  {
   "cell_type": "code",
   "execution_count": 2,
   "metadata": {},
   "outputs": [],
   "source": [
    "class LinkedList():\n",
    "    def __init__(self) -> None:\n",
    "        self.head = None\n",
    "\n",
    "    def append(self, value):\n",
    "        if self.head:\n",
    "            current = self.head\n",
    "            while current.next != None:\n",
    "                current = current.next\n",
    "            current.next = Node(value)\n",
    "        else:\n",
    "            self.head = Node(value)\n",
    "    \n",
    "    def show_list(self):\n",
    "        current = self.head\n",
    "        result = []\n",
    "        while current != None:\n",
    "            result.append(current.data)\n",
    "            current = current.next\n",
    "        return result\n",
    "    \n",
    "    def get_element(self, index):\n",
    "        current = self.head\n",
    "        result = None\n",
    "        for i in range(index+1):\n",
    "            result = current.data\n",
    "            if current.next:\n",
    "                current = current.next\n",
    "        return result\n",
    "    \n",
    "    def length(self):\n",
    "        current = self.head\n",
    "        result = 0\n",
    "        while current != None:\n",
    "            result += 1\n",
    "            current = current.next\n",
    "        return result\n",
    "    \n",
    "    def reverse(self):\n",
    "        if self.head is None:\n",
    "            return\n",
    "        current = self.head\n",
    "        prev = None\n",
    "        while current != None:\n",
    "            # Track the next node\n",
    "            next = current.next\n",
    "            # Modify the current node\n",
    "            current.next = prev\n",
    "            # Update prev and current\n",
    "            prev = current\n",
    "            current = next\n",
    "        self.head = prev"
   ]
  },
  {
   "cell_type": "code",
   "execution_count": 3,
   "metadata": {},
   "outputs": [],
   "source": [
    "my_list = LinkedList()"
   ]
  },
  {
   "cell_type": "code",
   "execution_count": 4,
   "metadata": {},
   "outputs": [],
   "source": [
    "for i in range(1, 10):\n",
    "    my_list.append(i)"
   ]
  },
  {
   "cell_type": "code",
   "execution_count": 5,
   "metadata": {},
   "outputs": [
    {
     "data": {
      "text/plain": [
       "[1, 2, 3, 4, 5, 6, 7, 8, 9]"
      ]
     },
     "execution_count": 5,
     "metadata": {},
     "output_type": "execute_result"
    }
   ],
   "source": [
    "my_list.show_list()"
   ]
  },
  {
   "cell_type": "code",
   "execution_count": 6,
   "metadata": {},
   "outputs": [
    {
     "data": {
      "text/plain": [
       "9"
      ]
     },
     "execution_count": 6,
     "metadata": {},
     "output_type": "execute_result"
    }
   ],
   "source": [
    "my_list.get_element(8)"
   ]
  },
  {
   "cell_type": "code",
   "execution_count": 7,
   "metadata": {},
   "outputs": [
    {
     "data": {
      "text/plain": [
       "9"
      ]
     },
     "execution_count": 7,
     "metadata": {},
     "output_type": "execute_result"
    }
   ],
   "source": [
    "my_list.length()"
   ]
  },
  {
   "cell_type": "code",
   "execution_count": 8,
   "metadata": {},
   "outputs": [],
   "source": [
    "my_list.reverse()"
   ]
  },
  {
   "cell_type": "code",
   "execution_count": 9,
   "metadata": {},
   "outputs": [
    {
     "data": {
      "text/plain": [
       "[9, 8, 7, 6, 5, 4, 3, 2, 1]"
      ]
     },
     "execution_count": 9,
     "metadata": {},
     "output_type": "execute_result"
    }
   ],
   "source": [
    "my_list.show_list()"
   ]
  }
 ],
 "metadata": {
  "kernelspec": {
   "display_name": "base",
   "language": "python",
   "name": "python3"
  },
  "language_info": {
   "codemirror_mode": {
    "name": "ipython",
    "version": 3
   },
   "file_extension": ".py",
   "mimetype": "text/x-python",
   "name": "python",
   "nbconvert_exporter": "python",
   "pygments_lexer": "ipython3",
   "version": "3.10.14"
  },
  "orig_nbformat": 4
 },
 "nbformat": 4,
 "nbformat_minor": 2
}
