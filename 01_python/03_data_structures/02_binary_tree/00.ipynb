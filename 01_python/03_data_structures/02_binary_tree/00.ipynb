{
 "cells": [
  {
   "cell_type": "markdown",
   "metadata": {},
   "source": [
    "### Binary Tree"
   ]
  },
  {
   "cell_type": "code",
   "execution_count": 6,
   "metadata": {},
   "outputs": [],
   "source": [
    "class User():\n",
    "    def __init__(self, login, fname, sname):\n",
    "        self.login = login\n",
    "        self.fname = fname\n",
    "        self.sname = sname\n",
    "    \n",
    "    def __repr__(self) -> str:\n",
    "        return f'User class'\n",
    "    \n",
    "    def __str__(self) -> str:\n",
    "        return f'User {self.fname} {self.sname} created.'"
   ]
  },
  {
   "cell_type": "code",
   "execution_count": 7,
   "metadata": {},
   "outputs": [],
   "source": [
    "user_1 = User('jane.doe@example.com', 'Jane', 'Doe')\n",
    "user_2 = User('john.smith@domain.com', 'John', 'Smith')\n",
    "user_3 = User('alice.jones@algovibe.in', 'Alice', 'Jones')\n",
    "user_4 = User('bob.brown@company.org', 'Bob', 'Brown')\n",
    "user_5 = User('charlie.green@webmail.com', 'Charlie', 'Green')\n",
    "user_6 = User('dave.white@provider.net', 'Dave', 'White')\n",
    "user_7 = User('eve.black@workplace.edu', 'Eve', 'Black')\n",
    "user_8 = User('frank.williams@service.co', 'Frank', 'Williams')\n",
    "user_9 = User('grace.martin@place.org', 'Grace', 'Martin')\n",
    "user_10 = User('henry.moore@sample.com', 'Henry', 'Moore')\n",
    "user_11 = User('irene.taylor@company.com', 'Irene', 'Taylor')\n",
    "user_12 = User('jack.anderson@tech.com', 'Jack', 'Anderson')\n",
    "user_13 = User('karen.thomas@domain.net', 'Karen', 'Thomas')\n",
    "user_14 = User('larry.jackson@office.org', 'Larry', 'Jackson')\n",
    "user_15 = User('mona.lewis@home.com', 'Mona', 'Lewis')"
   ]
  },
  {
   "cell_type": "code",
   "execution_count": 8,
   "metadata": {},
   "outputs": [
    {
     "name": "stdout",
     "output_type": "stream",
     "text": [
      "User Henry Moore created.\n"
     ]
    }
   ],
   "source": [
    "print(user_10)"
   ]
  },
  {
   "cell_type": "markdown",
   "metadata": {},
   "source": [
    "Simple Solution"
   ]
  },
  {
   "cell_type": "code",
   "execution_count": 44,
   "metadata": {},
   "outputs": [],
   "source": [
    "class UserDatabase:\n",
    "    def __init__(self):\n",
    "        self.users = []\n",
    "    \n",
    "    def list_all(self):\n",
    "        return [i.login for i in self.users]\n",
    "    \n",
    "    def insert(self, user):\n",
    "        loc = 0\n",
    "        for i in self.users:\n",
    "            if i.login > user.login:\n",
    "                break\n",
    "            loc += 1\n",
    "        self.users.insert(loc, user)\n",
    "    \n",
    "    def update(self, user):\n",
    "        for i in self.users:\n",
    "            if i.login == user.login:\n",
    "                i.fname, i.sname = user.fname, user.sname\n",
    "    \n",
    "    def find(self, login):\n",
    "        for i in self.users:\n",
    "            if login == i.login:\n",
    "                return f\"User: {i.fname} {i.sname}\""
   ]
  },
  {
   "cell_type": "code",
   "execution_count": 45,
   "metadata": {},
   "outputs": [],
   "source": [
    "database = UserDatabase()"
   ]
  },
  {
   "cell_type": "code",
   "execution_count": 46,
   "metadata": {},
   "outputs": [],
   "source": [
    "users = [\n",
    "    user_1, user_2, user_3, user_4, user_5, user_6, user_7, user_8, user_9, user_10, user_11, user_12, user_13, user_14, user_15\n",
    "    ]"
   ]
  },
  {
   "cell_type": "code",
   "execution_count": 47,
   "metadata": {},
   "outputs": [],
   "source": [
    "for i in users:\n",
    "    database.insert(i)"
   ]
  },
  {
   "cell_type": "code",
   "execution_count": 48,
   "metadata": {},
   "outputs": [
    {
     "data": {
      "text/plain": [
       "['alice.jones@algovibe.in',\n",
       " 'bob.brown@company.org',\n",
       " 'charlie.green@webmail.com',\n",
       " 'dave.white@provider.net',\n",
       " 'eve.black@workplace.edu',\n",
       " 'frank.williams@service.co',\n",
       " 'grace.martin@place.org',\n",
       " 'henry.moore@sample.com',\n",
       " 'irene.taylor@company.com',\n",
       " 'jack.anderson@tech.com',\n",
       " 'jane.doe@example.com',\n",
       " 'john.smith@domain.com',\n",
       " 'karen.thomas@domain.net',\n",
       " 'larry.jackson@office.org',\n",
       " 'mona.lewis@home.com']"
      ]
     },
     "execution_count": 48,
     "metadata": {},
     "output_type": "execute_result"
    }
   ],
   "source": [
    "database.list_all()"
   ]
  },
  {
   "cell_type": "code",
   "execution_count": 50,
   "metadata": {},
   "outputs": [
    {
     "data": {
      "text/plain": [
       "'User: Grace Martin'"
      ]
     },
     "execution_count": 50,
     "metadata": {},
     "output_type": "execute_result"
    }
   ],
   "source": [
    "database.find('grace.martin@place.org')"
   ]
  },
  {
   "cell_type": "code",
   "execution_count": 51,
   "metadata": {},
   "outputs": [],
   "source": [
    "database.update(User('grace.martin@place.org', 'Green', 'Martin'))"
   ]
  },
  {
   "cell_type": "code",
   "execution_count": 52,
   "metadata": {},
   "outputs": [
    {
     "data": {
      "text/plain": [
       "'User: Green Martin'"
      ]
     },
     "execution_count": 52,
     "metadata": {},
     "output_type": "execute_result"
    }
   ],
   "source": [
    "database.find('grace.martin@place.org')"
   ]
  },
  {
   "cell_type": "markdown",
   "metadata": {},
   "source": [
    "Binary Tree Solution"
   ]
  },
  {
   "cell_type": "markdown",
   "metadata": {},
   "source": [
    "![Example Image](https://miro.medium.com/v2/resize:fit:640/format:webp/1*xkDLV0QqdkDxqMCjZhVD-Q.jpeg)"
   ]
  },
  {
   "cell_type": "markdown",
   "metadata": {},
   "source": [
    "Simple Binary Tree"
   ]
  },
  {
   "cell_type": "code",
   "execution_count": 53,
   "metadata": {},
   "outputs": [],
   "source": [
    "class TreeNode:\n",
    "    def __init__(self, key):\n",
    "        self.key = key\n",
    "        self.left = None\n",
    "        self.right = None"
   ]
  },
  {
   "cell_type": "code",
   "execution_count": 55,
   "metadata": {},
   "outputs": [],
   "source": [
    "node1 = TreeNode(1)\n",
    "node2 = TreeNode(2)\n",
    "node3 = TreeNode(3)"
   ]
  },
  {
   "cell_type": "code",
   "execution_count": 60,
   "metadata": {},
   "outputs": [
    {
     "data": {
      "text/plain": [
       "1"
      ]
     },
     "execution_count": 60,
     "metadata": {},
     "output_type": "execute_result"
    }
   ],
   "source": [
    "node1.key"
   ]
  },
  {
   "cell_type": "code",
   "execution_count": 63,
   "metadata": {},
   "outputs": [],
   "source": [
    "tree = node1\n",
    "tree.left = node2\n",
    "tree.right = node3"
   ]
  },
  {
   "cell_type": "code",
   "execution_count": 65,
   "metadata": {},
   "outputs": [
    {
     "data": {
      "text/plain": [
       "(1, 2, 3)"
      ]
     },
     "execution_count": 65,
     "metadata": {},
     "output_type": "execute_result"
    }
   ],
   "source": [
    "tree.key, tree.left.key, tree.right.key"
   ]
  },
  {
   "cell_type": "markdown",
   "metadata": {},
   "source": [
    "Let's write a helper function which can convert a tuple into binary tree."
   ]
  },
  {
   "cell_type": "code",
   "execution_count": 66,
   "metadata": {},
   "outputs": [],
   "source": [
    "tree_tuple = ((1, 3, None), 2, ((None, 3, 4), 5, (6, 7, 8)))"
   ]
  },
  {
   "cell_type": "code",
   "execution_count": 69,
   "metadata": {},
   "outputs": [],
   "source": [
    "def parse_tuple(data):\n",
    "    if isinstance(data, tuple) and len(data) == 3:\n",
    "        node = TreeNode(data[1])\n",
    "        node.left = parse_tuple(data[0])\n",
    "        node.right = parse_tuple(data[2])\n",
    "    elif data == None:\n",
    "        node = None\n",
    "    else:\n",
    "        node = TreeNode(data)\n",
    "    return node"
   ]
  },
  {
   "cell_type": "code",
   "execution_count": 76,
   "metadata": {},
   "outputs": [
    {
     "data": {
      "text/plain": [
       "(2, 1)"
      ]
     },
     "execution_count": 76,
     "metadata": {},
     "output_type": "execute_result"
    }
   ],
   "source": [
    "tree = parse_tuple(tree_tuple)\n",
    "tree.key, tree.left.left.key"
   ]
  },
  {
   "cell_type": "markdown",
   "metadata": {},
   "source": [
    "Let's write a helper function which can convert tree into tuple"
   ]
  },
  {
   "cell_type": "code",
   "execution_count": 132,
   "metadata": {},
   "outputs": [],
   "source": [
    "def parse_tree(node):\n",
    "    data = []\n",
    "    if node == None:\n",
    "        return None\n",
    "    elif (not node.left) and (not node.right):\n",
    "        return node.key\n",
    "    else:\n",
    "        data.append(node.key)\n",
    "        data.insert(0, parse_tree(node.left))\n",
    "        data.append(parse_tree(node.right))\n",
    "    return tuple(data)"
   ]
  },
  {
   "cell_type": "code",
   "execution_count": 133,
   "metadata": {},
   "outputs": [
    {
     "data": {
      "text/plain": [
       "((1, 3, None), 2, ((None, 3, 4), 5, (6, 7, 8)))"
      ]
     },
     "execution_count": 133,
     "metadata": {},
     "output_type": "execute_result"
    }
   ],
   "source": [
    "parse_tree(tree)"
   ]
  },
  {
   "cell_type": "markdown",
   "metadata": {},
   "source": [
    "Let's write a function to display the tree like structure."
   ]
  },
  {
   "cell_type": "code",
   "execution_count": 136,
   "metadata": {},
   "outputs": [],
   "source": [
    "def display_keys(node, space=\"\\t\", level=0):\n",
    "    if node is None:\n",
    "        print(space*level + \"|\")\n",
    "        return\n",
    "    if node.left is None and node.right is None:\n",
    "        print(space*level + str(node.key))\n",
    "        return\n",
    "    display_keys(node.right, space, level+1)\n",
    "    print(space*level + str(node.key))\n",
    "    display_keys(node.left, space, level+1)"
   ]
  },
  {
   "cell_type": "code",
   "execution_count": 137,
   "metadata": {},
   "outputs": [
    {
     "name": "stdout",
     "output_type": "stream",
     "text": [
      "\t\t\t8\n",
      "\t\t7\n",
      "\t\t\t6\n",
      "\t5\n",
      "\t\t\t4\n",
      "\t\t3\n",
      "\t\t\t|\n",
      "2\n",
      "\t\t|\n",
      "\t3\n",
      "\t\t1\n"
     ]
    }
   ],
   "source": [
    "display_keys(tree)"
   ]
  }
 ],
 "metadata": {
  "kernelspec": {
   "display_name": "rpc",
   "language": "python",
   "name": "python3"
  },
  "language_info": {
   "codemirror_mode": {
    "name": "ipython",
    "version": 3
   },
   "file_extension": ".py",
   "mimetype": "text/x-python",
   "name": "python",
   "nbconvert_exporter": "python",
   "pygments_lexer": "ipython3",
   "version": "3.10.14"
  }
 },
 "nbformat": 4,
 "nbformat_minor": 2
}
