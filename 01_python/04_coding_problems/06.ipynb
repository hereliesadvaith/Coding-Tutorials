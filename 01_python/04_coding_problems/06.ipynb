{
 "cells": [
  {
   "cell_type": "markdown",
   "metadata": {},
   "source": [
    "### Question 26\n",
    "Level 2\n",
    "\n",
    "create a python program to guess a system-generated 4-digit number.\n",
    "If the user guesses the number, the user wins.\n",
    "if the guessed number has a digit in generated number with the same position, the user gets a rabbit.\n",
    "if the guessed number has a digit anywhere in the generated number, the user gets a tortoise the number of attempts to have no restriction.\n",
    "Display the count of both rabbit and tortoise\n",
    "\n",
    "Solution:"
   ]
  },
  {
   "cell_type": "code",
   "execution_count": null,
   "metadata": {},
   "outputs": [],
   "source": [
    "import random\n",
    "\n",
    "\n",
    "def guess_game():\n",
    "    # generate system number\n",
    "    num_list = []\n",
    "    for i in range(4):\n",
    "        num_list.append(str(random.randint(0,9)))\n",
    "    system_num = num_list[0] + num_list[1] + num_list[2] + num_list[3]\n",
    "    print(system_num)\n",
    "    while True:\n",
    "        # input user guess\n",
    "        user_num = input(\"Guess 4 digit number:\")\n",
    "        if user_num.isdigit() == True and len(user_num) == 4:\n",
    "            if user_num == system_num:\n",
    "                print(\"WINNER\")\n",
    "                x = input(\"Do you wanna continue ?(y/n) \")\n",
    "                if x.lower() == \"y\":\n",
    "                    # generate system number\n",
    "                    num_list = []\n",
    "                    for i in range(4):\n",
    "                        num_list.append(str(random.randint(0,9)))\n",
    "                    system_num = num_list[0] + num_list[1] + num_list[2] + num_list[3]\n",
    "                    print(system_num)\n",
    "                    continue\n",
    "                else:\n",
    "                    break\n",
    "            else:\n",
    "                # check rabbit count\n",
    "                rabbit_count = 0\n",
    "                for i in range(4):\n",
    "                    if user_num[i] == system_num[i]:\n",
    "                        rabbit_count += 1\n",
    "                if rabbit_count > 0:\n",
    "                    print(f\"You got {rabbit_count} rabbit\")\n",
    "                # check tortoise count\n",
    "                tortoise_count = 0\n",
    "                for i in user_num:\n",
    "                    if i in system_num:\n",
    "                        tortoise_count += 1 \n",
    "                # rabbit count will interfere with tortoise count so\n",
    "                tortoise_count = tortoise_count - rabbit_count                \n",
    "                if tortoise_count > 0:\n",
    "                    print(f\"You got {tortoise_count} tortoise\")\n",
    "                \n",
    "                x = input(\"Do you wanna continue ?(y/n) \")\n",
    "                if x.lower() == \"y\":\n",
    "                    continue\n",
    "                else:\n",
    "                    break\n",
    "        else:\n",
    "            print(\"Invalid input\")\n",
    "            print(\"Try again\")\n",
    "\n",
    "# call the function\n",
    "guess_game()"
   ]
  },
  {
   "cell_type": "markdown",
   "metadata": {},
   "source": [
    "### Question 27\n",
    "Write a program which can filter even numbers in a list by using filter function. The list is: [1,2,3,4,5,6,7,8,9,10].\n",
    "\n",
    "Hints:\n",
    "\n",
    "Use filter() to filter some elements in a list.\n",
    "Use lambda to define anonymous functions.\n",
    "\n",
    "Solution:"
   ]
  },
  {
   "cell_type": "code",
   "execution_count": null,
   "metadata": {},
   "outputs": [],
   "source": [
    "num_list = [i for i in range(1,11)]\n",
    "even_num_list = list(filter(lambda n: n % 2 == 0, num_list))\n",
    "print(even_num_list)"
   ]
  },
  {
   "cell_type": "markdown",
   "metadata": {},
   "source": [
    "### Question 28\n",
    "Write a program which can map() to make a list whose elements are square of elements in [1,2,3,4,5,6,7,8,9,10].\n",
    "\n",
    "Hints\n",
    "Use map() to generate a list.\n",
    "Use lambda to define anonymous functions.\n",
    "\n",
    "Solution:"
   ]
  },
  {
   "cell_type": "code",
   "execution_count": null,
   "metadata": {},
   "outputs": [],
   "source": [
    "num_list = [i for i in range(1,11)]\n",
    "square_num_list = list(map(lambda n: n ** 2, num_list))\n",
    "print(square_num_list)"
   ]
  },
  {
   "cell_type": "markdown",
   "metadata": {},
   "source": [
    "### Question 29\n",
    "Write a program which can map() and filter() to make a list whose elements are square of even number in [1,2,3,4,5,6,7,8,9,10].\n",
    "\n",
    "Hints\n",
    "Use map() to generate a list.\n",
    "Use filter() to filter elements of a list.\n",
    "Use lambda to define anonymous functions.\n",
    "\n",
    "Solution"
   ]
  },
  {
   "cell_type": "code",
   "execution_count": null,
   "metadata": {},
   "outputs": [],
   "source": [
    "square_even_num_list = list(map(lambda n: n ** 2, filter(lambda n: n % 2 == 0, range(1,11))))\n",
    "print(square_even_num_list)"
   ]
  },
  {
   "cell_type": "markdown",
   "metadata": {},
   "source": [
    "### Question 30\n",
    "Define a class named American which has a static method called printNationality.\n",
    "\n",
    "Hints:\n",
    "Use @staticmethod decorator to define class static method.\n",
    "\n",
    "Solution:"
   ]
  },
  {
   "cell_type": "code",
   "execution_count": null,
   "metadata": {},
   "outputs": [],
   "source": [
    "class American():\n",
    "    @staticmethod\n",
    "    def print_nationality():\n",
    "        print(\"America\")\n",
    "\n",
    "an_american = American()\n",
    "an_american.print_nationality()\n",
    "American.print_nationality()"
   ]
  }
 ],
 "metadata": {
  "kernelspec": {
   "display_name": "venv",
   "language": "python",
   "name": "python3"
  },
  "language_info": {
   "codemirror_mode": {
    "name": "ipython",
    "version": 3
   },
   "file_extension": ".py",
   "mimetype": "text/x-python",
   "name": "python",
   "nbconvert_exporter": "python",
   "pygments_lexer": "ipython3",
   "version": "3.11.4"
  },
  "orig_nbformat": 4
 },
 "nbformat": 4,
 "nbformat_minor": 2
}
