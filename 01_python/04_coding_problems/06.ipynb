{
 "cells": [
  {
   "attachments": {},
   "cell_type": "markdown",
   "metadata": {},
   "source": [
    "# Question 26\n",
    "Level 3\n",
    "\n",
    "create a python program to guess a system-generated 4-digit number.\n",
    "If the user guesses the number, the user wins\n",
    "if the guessed number has a digit in generated number with the same position, the user gets a rabbit\n",
    "if the guessed number has a digit anywhere in the generated number, the user gets a tortoise\n",
    "the number of attempts to have no restriction\n",
    "display the count of both rabbit and tortoise\n",
    "\n",
    "Solution:"
   ]
  },
  {
   "cell_type": "code",
   "execution_count": null,
   "metadata": {},
   "outputs": [],
   "source": [
    "import random\n",
    "\n",
    "def guess_game():\n",
    "    while True:\n",
    "        # generate random 4 digit number\n",
    "        digit_list = []\n",
    "        for i in range(0,4):\n",
    "            digit_list.append(str(random.randint(0,9)))\n",
    "        system_num = digit_list[0] + digit_list[1] + digit_list[2] + digit_list[3]\n",
    "        user_num = input(\"Guess 4 digit number:\")\n",
    "        if user_num.isdigit() == True and len(user_num) == 4:\n",
    "            if user_num == system_num:\n",
    "                print(\"WINNER\")\n",
    "                x = input(\"Do you wanna continue ?(y/n) \")\n",
    "                if x.lower() == \"y\":\n",
    "                    continue\n",
    "                else:\n",
    "                    break\n",
    "            else:\n",
    "                # check rabbit count\n",
    "                rabbit_count = 0\n",
    "                for i in range(4):\n",
    "                    if user_num[i] == system_num[i]:\n",
    "                        rabbit_count += 1\n",
    "                if rabbit_count > 0:\n",
    "                    print(f\"You got {rabbit_count} rabbit\")\n",
    "                # check tortoise count\n",
    "                tortoise_count = 0\n",
    "                for i in user_num:\n",
    "                    if i in system_num:\n",
    "                        tortoise_count += 1 \n",
    "                # rabbit count will interfere with tortoise count so\n",
    "                tortoise_count = tortoise_count - rabbit_count                \n",
    "                if tortoise_count > 0:\n",
    "                    print(f\"You got {tortoise_count} tortoise\")\n",
    "                \n",
    "                x = input(\"Do you wanna continue ?(y/n) \")\n",
    "                if x.lower() == \"y\":\n",
    "                    continue\n",
    "                else:\n",
    "                    break\n",
    "        else:\n",
    "            print(\"Invalid input\")\n",
    "            x = input(\"Do you wanna continue ?(y/n): \")\n",
    "            if x.lower() == \"y\":\n",
    "                continue\n",
    "            else:\n",
    "                break\n",
    "\n",
    "# call the function\n",
    "guess_game()"
   ]
  }
 ],
 "metadata": {
  "kernelspec": {
   "display_name": "base",
   "language": "python",
   "name": "python3"
  },
  "language_info": {
   "codemirror_mode": {
    "name": "ipython",
    "version": 3
   },
   "file_extension": ".py",
   "mimetype": "text/x-python",
   "name": "python",
   "nbconvert_exporter": "python",
   "pygments_lexer": "ipython3",
   "version": "3.10.9"
  },
  "orig_nbformat": 4
 },
 "nbformat": 4,
 "nbformat_minor": 2
}
