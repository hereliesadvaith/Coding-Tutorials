{
 "cells": [
  {
   "attachments": {},
   "cell_type": "markdown",
   "metadata": {},
   "source": [
    "### Question 16\n",
    "Level 2\n",
    "\n",
    "Question:\n",
    "Use a list comprehension to get square of each odd number in a list. The list is input by a sequence of comma-separated numbers.\n",
    "Suppose the following input is supplied to the program:\n",
    "1,2,3,4,5,6,7,8,9\n",
    "Then, the output should be:\n",
    "1,9,25,49,81\n",
    "\n",
    "Hints:\n",
    "In case of input data being supplied to the question, it should be assumed to be a console input.\n",
    "\n",
    "Solution:"
   ]
  },
  {
   "cell_type": "code",
   "execution_count": null,
   "metadata": {},
   "outputs": [],
   "source": [
    "inp_str = input(\"Enter:\")\n",
    "str_list = inp_str.split(\",\")\n",
    "output = []\n",
    "for i in str_list:\n",
    "    if int(i) % 2 != 0:\n",
    "        output.append(str(int(i) * int(i)))\n",
    "print(\",\".join(output))"
   ]
  },
  {
   "attachments": {},
   "cell_type": "markdown",
   "metadata": {},
   "source": [
    "### Question 17\n",
    "Level 2\n",
    "\n",
    "Question:\n",
    "Write a program that computes the net amount of a bank account based a transaction log from console input. The transaction log format is shown as following:\n",
    "D 100\n",
    "W 200\n",
    "\n",
    "D means deposit while W means withdrawal.\n",
    "Suppose the following input is supplied to the program:\n",
    "D 300\n",
    "D 300\n",
    "W 200\n",
    "D 100\n",
    "Then, the output should be:\n",
    "500\n",
    "\n",
    "Hints:\n",
    "In case of input data being supplied to the question, it should be assumed to be a console input.\n",
    "\n",
    "Solution:"
   ]
  },
  {
   "cell_type": "code",
   "execution_count": null,
   "metadata": {},
   "outputs": [],
   "source": [
    "output = 0\n",
    "while True:\n",
    "    inp_str = input()\n",
    "    str_list = inp_str.split(\" \")\n",
    "    if inp_str:\n",
    "        match str_list[0]:\n",
    "            case \"D\":\n",
    "                output += int(str_list[1])\n",
    "            case \"W\":\n",
    "                output -= int(str_list[1])\n",
    "            case _:\n",
    "                print(\"wrong input\")\n",
    "    # press enter twice to get out of the function\n",
    "    else:\n",
    "        break\n",
    "print(output)"
   ]
  },
  {
   "attachments": {},
   "cell_type": "markdown",
   "metadata": {},
   "source": [
    "### Question 18\n",
    "Level 3\n",
    "\n",
    "Question:\n",
    "A website requires the users to input username and password to register. Write a program to check the validity of password input by users.\n",
    "Following are the criteria for checking the password:\n",
    "1. At least 1 letter between [a-z]\n",
    "2. At least 1 number between [0-9]\n",
    "1. At least 1 letter between [A-Z]\n",
    "3. At least 1 character from [$#@]\n",
    "4. Minimum length of transaction password: 6\n",
    "5. Maximum length of transaction password: 12\n",
    "Your program should accept a sequence of comma separated passwords and will check them according to the above criteria. Passwords that match the criteria are to be printed, each separated by a comma.\n",
    "Example\n",
    "If the following passwords are given as input to the program:\n",
    "ABd1234@1,a F1#,2w3E*,2We3345\n",
    "Then, the output of the program should be:\n",
    "ABd1234@1\n",
    "\n",
    "Hints:\n",
    "In case of input data being supplied to the question, it should be assumed to be a console input.\n",
    "\n",
    "Solutions:"
   ]
  },
  {
   "cell_type": "code",
   "execution_count": null,
   "metadata": {},
   "outputs": [],
   "source": [
    "import re\n",
    "inp_str = input(\"Passwords:\")\n",
    "str_list = inp_str.split(\",\")\n",
    "output = []\n",
    "for i in str_list:\n",
    "    if len(i) < 6 and len(i) > 12:\n",
    "        # continues the loop for next element\n",
    "        continue\n",
    "    else:\n",
    "        pass\n",
    "    if not re.search(\"[a-z]\",i):\n",
    "        continue\n",
    "    elif not re.search(\"[0-9]\",i):\n",
    "        continue\n",
    "    elif not re.search(\"[A-Z]\",i):\n",
    "        continue\n",
    "    elif not re.search(\"[$#@]\",i):\n",
    "        continue\n",
    "    elif re.search(\"\\s\",i):\n",
    "        continue\n",
    "    else:\n",
    "        pass\n",
    "    output.append(i)\n",
    "print(\",\".join(output))"
   ]
  },
  {
   "attachments": {},
   "cell_type": "markdown",
   "metadata": {},
   "source": [
    "### Question 19\n",
    "Level 3\n",
    "\n",
    "Question:\n",
    "You are required to write a program to sort the (name, age, height) tuples by ascending order where name is string, age and height are numbers. The tuples are input by console. The sort criteria is:\n",
    "1: Sort based on name;\n",
    "2: Then sort based on age;\n",
    "3: Then sort by score.\n",
    "The priority is that name > age > score.\n",
    "If the following tuples are given as input to the program:\n",
    "Tom,19,80\n",
    "John,20,90\n",
    "Jony,17,91\n",
    "Jony,17,93\n",
    "Json,21,85\n",
    "Then, the output of the program should be:\n",
    "[('John', '20', '90'), ('Jony', '17', '91'), ('Jony', '17', '93'), ('Json', '21', '85'), ('Tom', '19', '80')]\n",
    "\n",
    "Hints:\n",
    "In case of input data being supplied to the question, it should be assumed to be a console input.\n",
    "We use itemgetter to enable multiple sort keys.\n",
    "\n",
    "Solution:"
   ]
  },
  {
   "cell_type": "code",
   "execution_count": null,
   "metadata": {},
   "outputs": [],
   "source": [
    "from operator import itemgetter\n",
    "output = []\n",
    "while True:\n",
    "    inp_str = input()\n",
    "    if not inp_str:\n",
    "        break\n",
    "    output.append(tuple(inp_str.split(\",\")))\n",
    "\n",
    "print(sorted(output, key=itemgetter(0,1,2)))"
   ]
  },
  {
   "attachments": {},
   "cell_type": "markdown",
   "metadata": {},
   "source": [
    "### Question 20\n",
    "Level 3\n",
    "\n",
    "Question:\n",
    "Define a class with a generator which can iterate the numbers, which are divisible by 7, between a given range 0 and n.\n",
    "\n",
    "Hints:\n",
    "Consider use yield.\n",
    "yield is a keyword in Python that is used in the context of generator functions to create iterators.\n",
    "Generator functions are a type of function in Python that use the yield keyword to return\n",
    "a generator object, which can be iterated over using a for loop or the next() function.\n",
    "\n",
    "Solution:"
   ]
  },
  {
   "cell_type": "code",
   "execution_count": null,
   "metadata": {},
   "outputs": [],
   "source": [
    "def putNumbers(n):\n",
    "    i = 0\n",
    "    while i < n:\n",
    "        j = i\n",
    "        i = i + 1\n",
    "        if j % 7 == 0:\n",
    "            yield j\n",
    "\n",
    "\n",
    "inp_num = int(input(\"Enter Num:\"))\n",
    "genrator = putNumbers(inp_num)\n",
    "print(type(genrator))\n",
    "print(next(genrator))  # output 0\n",
    "print(next(genrator))  # output 7\n",
    "\n",
    "for i in genrator:\n",
    "    print(i)"
   ]
  }
 ],
 "metadata": {
  "kernelspec": {
   "display_name": "base",
   "language": "python",
   "name": "python3"
  },
  "language_info": {
   "codemirror_mode": {
    "name": "ipython",
    "version": 3
   },
   "file_extension": ".py",
   "mimetype": "text/x-python",
   "name": "python",
   "nbconvert_exporter": "python",
   "pygments_lexer": "ipython3",
   "version": "3.10.9"
  },
  "orig_nbformat": 4
 },
 "nbformat": 4,
 "nbformat_minor": 2
}
