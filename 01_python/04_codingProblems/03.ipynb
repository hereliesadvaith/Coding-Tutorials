{
 "cells": [
  {
   "cell_type": "markdown",
   "metadata": {},
   "source": [
    "### Question 11\n",
    "Level 2\n",
    "\n",
    "Question:\n",
    "Write a program which accepts a sequence of comma separated 4 digit binary numbers as its input and then check whether they are divisible by 5 or not. The numbers that are divisible by 5 are to be printed in a comma separated sequence.\n",
    "Example:\n",
    "0100,0011,1010,1001\n",
    "Then the output should be:\n",
    "1010\n",
    "Notes: Assume the data is input by console.\n",
    "\n",
    "Hints:\n",
    "In case of input data being supplied to the question, it should be assumed to be a console input.\n",
    "\n",
    "Solution:"
   ]
  },
  {
   "cell_type": "code",
   "execution_count": null,
   "metadata": {},
   "outputs": [],
   "source": [
    "inp_str = input(\"Binary Numbers:\").strip(\",\")  # to remove trailing commas and spaces\n",
    "str_list = inp_str.split(\",\")\n",
    "result = []\n",
    "for i in str_list:\n",
    "    ind_i = len(i) - 1\n",
    "    value = 0\n",
    "    for j in i:\n",
    "        value += int(j) * (2**ind_i)\n",
    "        ind_i -= 1\n",
    "    # check if it's divsible by 5 then add to list\n",
    "    if value % 5 == 0:\n",
    "        result.append(value)\n",
    "my_string = \",\".join(str(x) for x in result)\n",
    "print(my_string)"
   ]
  },
  {
   "cell_type": "code",
   "execution_count": null,
   "metadata": {},
   "outputs": [],
   "source": [
    "# or you can just use built-in binary function\n",
    "\n",
    "result2 = []\n",
    "items = [x for x in input().split(\",\")]\n",
    "for p in items:\n",
    "    intp = int(p, 2)\n",
    "    if not intp % 5:\n",
    "        result2.append(p)\n",
    "\n",
    "my_string2 = \",\".join(str(x) for x in result)\n",
    "print(my_string2)"
   ]
  }
 ],
 "metadata": {
  "kernelspec": {
   "display_name": "base",
   "language": "python",
   "name": "python3"
  },
  "language_info": {
   "name": "python",
   "version": "3.10.9"
  },
  "orig_nbformat": 4
 },
 "nbformat": 4,
 "nbformat_minor": 2
}
