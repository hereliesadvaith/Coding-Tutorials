{
 "cells": [
  {
   "attachments": {},
   "cell_type": "markdown",
   "metadata": {},
   "source": [
    "### Question 16\n",
    "Level 2\n",
    "\n",
    "Question:\n",
    "Use a list comprehension to get square of each odd number in a list. The list is input by a sequence of comma-separated numbers.\n",
    "Suppose the following input is supplied to the program:\n",
    "1,2,3,4,5,6,7,8,9\n",
    "Then, the output should be:\n",
    "1,9,25,49,81\n",
    "\n",
    "Hints:\n",
    "In case of input data being supplied to the question, it should be assumed to be a console input.\n",
    "\n",
    "Solution:"
   ]
  },
  {
   "cell_type": "code",
   "execution_count": null,
   "metadata": {},
   "outputs": [],
   "source": [
    "inp_str = input(\"Enter:\")\n",
    "str_list = inp_str.split(\",\")\n",
    "output = []\n",
    "for i in str_list:\n",
    "    if int(i) % 2 != 0:\n",
    "        output.append(str(int(i) * int(i)))\n",
    "print(\",\".join(output))"
   ]
  },
  {
   "attachments": {},
   "cell_type": "markdown",
   "metadata": {},
   "source": [
    "### Question 17\n",
    "Level 2\n",
    "\n",
    "Question:\n",
    "Write a program that computes the net amount of a bank account based a transaction log from console input. The transaction log format is shown as following:\n",
    "D 100\n",
    "W 200\n",
    "\n",
    "D means deposit while W means withdrawal.\n",
    "Suppose the following input is supplied to the program:\n",
    "D 300\n",
    "D 300\n",
    "W 200\n",
    "D 100\n",
    "Then, the output should be:\n",
    "500\n",
    "\n",
    "Hints:\n",
    "In case of input data being supplied to the question, it should be assumed to be a console input.\n",
    "\n",
    "Solution:"
   ]
  },
  {
   "cell_type": "code",
   "execution_count": null,
   "metadata": {},
   "outputs": [],
   "source": [
    "output = 0\n",
    "while True:\n",
    "    inp_str = input()\n",
    "    str_list = inp_str.split(\" \")\n",
    "    if inp_str:\n",
    "        match str_list[0]:\n",
    "            case \"D\":\n",
    "                output += int(str_list[1])\n",
    "            case \"W\":\n",
    "                output -= int(str_list[1])\n",
    "            case _:\n",
    "                print(\"wrong input\")\n",
    "    # press enter twice to get out of the function\n",
    "    else:\n",
    "        break\n",
    "print(output)"
   ]
  }
 ],
 "metadata": {
  "kernelspec": {
   "display_name": "base",
   "language": "python",
   "name": "python3"
  },
  "language_info": {
   "codemirror_mode": {
    "name": "ipython",
    "version": 3
   },
   "file_extension": ".py",
   "mimetype": "text/x-python",
   "name": "python",
   "nbconvert_exporter": "python",
   "pygments_lexer": "ipython3",
   "version": "3.10.9"
  },
  "orig_nbformat": 4
 },
 "nbformat": 4,
 "nbformat_minor": 2
}
