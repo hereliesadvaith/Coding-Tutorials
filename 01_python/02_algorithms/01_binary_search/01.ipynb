{
 "cells": [
  {
   "cell_type": "code",
   "execution_count": 1,
   "metadata": {},
   "outputs": [],
   "source": [
    "# sorted list\n",
    "numbers = [1, 4, 6, 9, 11, 15, 15, 15, 17, 21, 34, 34, 56]\n",
    "# number to find\n",
    "query = 15"
   ]
  },
  {
   "cell_type": "code",
   "execution_count": 4,
   "metadata": {},
   "outputs": [],
   "source": [
    "class BinarySearch:\n",
    "    def __init__(self, numbers, query) -> None:\n",
    "        self.numbers = numbers\n",
    "        self.query = query\n",
    "\n",
    "    # if there's more than one 15 we need to find the smallest index\n",
    "    def location(self, mid):\n",
    "        if self.numbers[mid] == self.query:\n",
    "            if mid - 1 >= 0 and self.numbers[mid - 1] == self.query:\n",
    "                return \"left\"\n",
    "            else:\n",
    "                return \"found\"\n",
    "        elif self.numbers[mid] < self.query:\n",
    "            return \"right\"\n",
    "        else:\n",
    "            return \"left\"\n",
    "\n",
    "    def locate_index(self):\n",
    "        lo, hi = 0, len(self.numbers) - 1\n",
    "        while lo <= hi:\n",
    "            mid = (lo + hi) // 2\n",
    "            result = self.location(mid)\n",
    "            if result == \"found\":\n",
    "                return mid\n",
    "            elif result == \"left\":\n",
    "                hi = mid - 1\n",
    "            elif result == \"right\":\n",
    "                lo = mid + 1\n",
    "        return -1"
   ]
  },
  {
   "cell_type": "code",
   "execution_count": 5,
   "metadata": {},
   "outputs": [
    {
     "name": "stdout",
     "output_type": "stream",
     "text": [
      "5\n"
     ]
    }
   ],
   "source": [
    "q1 = BinarySearch(numbers, query)\n",
    "print(q1.locate_index())"
   ]
  },
  {
   "cell_type": "markdown",
   "metadata": {},
   "source": [
    "### Big O Notation\n",
    "\n",
    "$initialLength = N$\n",
    "\n",
    "$iteration_1 = N / 2$\n",
    "\n",
    "$iteration_2 = N / 4 = N / 2^2$\n",
    "\n",
    "...\n",
    "\n",
    "$iteration_k = N / 2^k$\n",
    "\n",
    "Since final length of array is 1\n",
    "\n",
    "$N / 2^k = 1$\n",
    "\n",
    "$N = 2^k$\n",
    "\n",
    "$k = log N$\n",
    "\n",
    "$timeComplexity = O(log N)$\n",
    "\n",
    "$spaceComplexity = O(1)$"
   ]
  }
 ],
 "metadata": {
  "kernelspec": {
   "display_name": "venv",
   "language": "python",
   "name": "python3"
  },
  "language_info": {
   "codemirror_mode": {
    "name": "ipython",
    "version": 3
   },
   "file_extension": ".py",
   "mimetype": "text/x-python",
   "name": "python",
   "nbconvert_exporter": "python",
   "pygments_lexer": "ipython3",
   "version": "3.11.4"
  },
  "orig_nbformat": 4
 },
 "nbformat": 4,
 "nbformat_minor": 2
}
