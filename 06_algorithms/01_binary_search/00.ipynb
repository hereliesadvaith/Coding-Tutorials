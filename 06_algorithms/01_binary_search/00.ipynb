{
 "cells": [
  {
   "cell_type": "markdown",
   "metadata": {},
   "source": [
    "### Binary Search"
   ]
  },
  {
   "cell_type": "code",
   "execution_count": 1,
   "metadata": {},
   "outputs": [],
   "source": [
    "# Sorted list\n",
    "numbers = [1, 4, 6, 9, 11, 15, 15, 15, 17, 21, 34, 34, 56]\n",
    "# Query\n",
    "query = 15"
   ]
  },
  {
   "cell_type": "code",
   "execution_count": 2,
   "metadata": {},
   "outputs": [],
   "source": [
    "def binary_search(numbers, query):\n",
    "    numbers = list(enumerate(numbers))\n",
    "    numbers.sort(key=lambda x: x[1])\n",
    "    lo, hi = 0, len(numbers) - 1\n",
    "    result = -1\n",
    "    while lo <= hi:\n",
    "        mid = (lo + hi) // 2\n",
    "        index, num = numbers[mid]\n",
    "        if num == query:\n",
    "            result = index\n",
    "            hi = mid - 1\n",
    "        elif num < query:\n",
    "            lo = mid + 1\n",
    "        else:\n",
    "            hi = mid -1\n",
    "    return result"
   ]
  },
  {
   "cell_type": "code",
   "execution_count": 3,
   "metadata": {},
   "outputs": [
    {
     "data": {
      "text/plain": [
       "5"
      ]
     },
     "execution_count": 3,
     "metadata": {},
     "output_type": "execute_result"
    }
   ],
   "source": [
    "binary_search(numbers, query)"
   ]
  }
 ],
 "metadata": {
  "kernelspec": {
   "display_name": "venv",
   "language": "python",
   "name": "python3"
  },
  "language_info": {
   "codemirror_mode": {
    "name": "ipython",
    "version": 3
   },
   "file_extension": ".py",
   "mimetype": "text/x-python",
   "name": "python",
   "nbconvert_exporter": "python",
   "pygments_lexer": "ipython3",
   "version": "3.10.14"
  },
  "orig_nbformat": 4
 },
 "nbformat": 4,
 "nbformat_minor": 2
}
